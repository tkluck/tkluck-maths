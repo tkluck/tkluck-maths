{
 "cells": [
  {
   "cell_type": "code",
   "execution_count": null,
   "metadata": {},
   "outputs": [],
   "source": [
    "using Revise\n",
    "using PolynomialRings\n",
    "using MatrixFactorizations\n",
    "using OrbifoldEquivalence\n",
    "@ring! ℤ[x,y,u,v,x₁,y₁]"
   ]
  },
  {
   "cell_type": "code",
   "execution_count": null,
   "metadata": {},
   "outputs": [],
   "source": [
    "function A_D(d, A_vars, D_vars)\n",
    "    _, (u,v,x,y) = polynomial_ring(A_vars..., D_vars..., basering=BigInt)\n",
    "    \n",
    "    f = div(x^d - u^2d, [x - u^2])[1]\n",
    "    L = [0 x-u^2; f - y^2 0]\n",
    "    R = [0 v-u*y; v+u*y 0]\n",
    "    return L⨶R\n",
    "end\n",
    "Q = A_D(2, [:u,:v], [:x,:y])"
   ]
  },
  {
   "cell_type": "code",
   "execution_count": null,
   "metadata": {},
   "outputs": [],
   "source": [
    "Q^2"
   ]
  },
  {
   "cell_type": "code",
   "execution_count": null,
   "metadata": {},
   "outputs": [],
   "source": [
    "M = Q(x=x₁,y=y₁) ⨶ dual(Q)\n",
    "M^2"
   ]
  },
  {
   "cell_type": "code",
   "execution_count": null,
   "metadata": {},
   "outputs": [],
   "source": [
    "λ_u = -eye(Q(x=x₁,y=y₁)) ⨷ diff(dual(Q), :u) //4; power_of_u = 3\n",
    "λ_v = -eye(Q(x=x₁,y=y₁)) ⨷ diff(dual(Q), :v) //2; power_of_v = 1"
   ]
  },
  {
   "cell_type": "code",
   "execution_count": null,
   "metadata": {},
   "outputs": [],
   "source": [
    "inflated(M) = matrix_over_subring(matrix_over_subring(M, :u, power_of_u, :t₁), :v, power_of_v, :t₂)\n",
    "\n",
    "inflated_M = inflated(M)\n",
    "\n",
    "∇(X, t) = diff.(X, t)\n",
    "At = (∇(inflated_M, :t₁) * ∇(inflated_M, :t₂) - ∇(inflated_M, :t₂) * ∇(inflated_M, :t₁))(t₁=0, t₂=0)//2\n",
    "\n",
    "e = (inflated(λ_u) * inflated(λ_v))(t₁=0, t₂=0) * At\n",
    "\n",
    "MM = inflated_M(t₁=0,t₂=0)\n",
    "e^2 == e, MM*e == e*MM"
   ]
  },
  {
   "cell_type": "code",
   "execution_count": null,
   "metadata": {},
   "outputs": [],
   "source": [
    "image_basis = hcat(gröbner_basis(columns(e))...)"
   ]
  },
  {
   "cell_type": "code",
   "execution_count": null,
   "metadata": {},
   "outputs": [],
   "source": [
    "MM_reduced = matrix_solve_affine(MM_reduced -> image_basis*MM_reduced, MM*image_basis, (8,8))"
   ]
  },
  {
   "cell_type": "code",
   "execution_count": null,
   "metadata": {},
   "outputs": [],
   "source": [
    "topright(MM_reduced)"
   ]
  },
  {
   "cell_type": "code",
   "execution_count": null,
   "metadata": {},
   "outputs": [],
   "source": [
    "MM_simple = MM_reduced |> RowOp(2, 1//2*y, 1) |> ColOp(5, 1//2*y, 6)"
   ]
  },
  {
   "cell_type": "code",
   "execution_count": null,
   "metadata": {},
   "outputs": [],
   "source": [
    "MM_simple^2"
   ]
  },
  {
   "cell_type": "code",
   "execution_count": null,
   "metadata": {},
   "outputs": [],
   "source": []
  }
 ],
 "metadata": {
  "kernelspec": {
   "display_name": "Julia 0.6.2",
   "language": "julia",
   "name": "julia-0.6"
  },
  "language_info": {
   "file_extension": ".jl",
   "mimetype": "application/julia",
   "name": "julia",
   "version": "0.6.2"
  }
 },
 "nbformat": 4,
 "nbformat_minor": 2
}
